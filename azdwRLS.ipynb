{
 "cells": [
  {
   "cell_type": "code",
   "execution_count": null,
   "metadata": {},
   "outputs": [
    {
     "data": {
      "application/vnd.livy.statement-meta+json": {
       "execution_finish_time": "2022-01-29T13:50:16.3669907Z",
       "execution_start_time": "2022-01-29T13:50:16.366644Z",
       "livy_statement_state": "available",
       "queued_time": "2022-01-29T13:50:16.1558935Z",
       "session_id": 3,
       "session_start_time": null,
       "spark_pool": "sqldwspark",
       "state": "finished",
       "statement_id": 2
      },
      "text/plain": [
       "StatementMeta(sqldwspark, 3, 2, Finished, Available)"
      ]
     },
     "metadata": {},
     "output_type": "display_data"
    }
   ],
   "source": [
    "import adal,requests\n",
    "import pandas as pd\n",
    "from pyspark.sql import SparkSession\n",
    "from pyspark.sql.types import *\n",
    "from pyspark.sql import Row\n",
    "from pyspark.sql.types import StructField, StructType, StringType, LongType"
   ]
  },
  {
   "cell_type": "code",
   "execution_count": null,
   "metadata": {
    "jupyter": {
     "outputs_hidden": false,
     "source_hidden": false
    },
    "nteract": {
     "transient": {
      "deleting": false
     }
    }
   },
   "outputs": [
    {
     "data": {
      "application/vnd.livy.statement-meta+json": {
       "execution_finish_time": "2022-01-29T13:53:15.2484174Z",
       "execution_start_time": "2022-01-29T13:53:15.0980238Z",
       "livy_statement_state": "available",
       "queued_time": "2022-01-29T13:53:14.9697732Z",
       "session_id": 3,
       "session_start_time": null,
       "spark_pool": "sqldwspark",
       "state": "finished",
       "statement_id": 8
      },
      "text/plain": [
       "StatementMeta(sqldwspark, 3, 8, Finished, Available)"
      ]
     },
     "metadata": {},
     "output_type": "display_data"
    }
   ],
   "source": [
    "account_name = \"azsqldwadls\"\n",
    "container_name= \"blob\"\n",
    "adls_path = 'abfss://%s@%s.dfs.core.windows.net/' % (container_name, account_name)"
   ]
  },
  {
   "cell_type": "code",
   "execution_count": null,
   "metadata": {
    "jupyter": {
     "outputs_hidden": false,
     "source_hidden": false
    },
    "microsoft": {},
    "nteract": {
     "transient": {
      "deleting": false
     }
    },
    "tags": [
     "parameters"
    ]
   },
   "outputs": [
    {
     "data": {
      "application/vnd.livy.statement-meta+json": {
       "execution_finish_time": "2022-01-29T13:50:22.5643225Z",
       "execution_start_time": "2022-01-29T13:50:22.3864013Z",
       "livy_statement_state": "available",
       "queued_time": "2022-01-29T13:50:22.286521Z",
       "session_id": 3,
       "session_start_time": null,
       "spark_pool": "sqldwspark",
       "state": "finished",
       "statement_id": 3
      },
      "text/plain": [
       "StatementMeta(sqldwspark, 3, 3, Finished, Available)"
      ]
     },
     "metadata": {},
     "output_type": "display_data"
    }
   ],
   "source": [
    "groupname=\"sqldwgroup\""
   ]
  },
  {
   "cell_type": "code",
   "execution_count": null,
   "metadata": {
    "jupyter": {
     "outputs_hidden": false,
     "source_hidden": false
    },
    "nteract": {
     "transient": {
      "deleting": false
     }
    }
   },
   "outputs": [
    {
     "data": {
      "application/vnd.livy.statement-meta+json": {
       "execution_finish_time": "2022-01-29T13:50:25.579466Z",
       "execution_start_time": "2022-01-29T13:50:25.4190303Z",
       "livy_statement_state": "available",
       "queued_time": "2022-01-29T13:50:25.317808Z",
       "session_id": 3,
       "session_start_time": null,
       "spark_pool": "sqldwspark",
       "state": "finished",
       "statement_id": 4
      },
      "text/plain": [
       "StatementMeta(sqldwspark, 3, 4, Finished, Available)"
      ]
     },
     "metadata": {},
     "output_type": "display_data"
    }
   ],
   "source": [
    "def azure_ad_api(url):\n",
    "    print(url)\n",
    "    authurl = 'https://login.microsoftonline.com/Tenant_Name/oauth2/v2.0/token'\n",
    "    data = {\n",
    "        'grant_type': 'client_credentials',\n",
    "        'client_id': \"20ebb1f6-adf4-459a-8f38-5940d578e9dc\",\n",
    "        'scope': 'https://graph.microsoft.com/.default',\n",
    "        'client_secret': \"client_secret\"\n",
    "             }       \n",
    "    r = requests.post(authurl, data=data)\n",
    "    token = r.json().get('access_token')\n",
    "    headers = {\n",
    "        'Content-Type' : 'application\\json',\n",
    "        'Authorization': 'Bearer {}'.format(token)\n",
    "    }\n",
    "    r = requests.get(url, headers=headers)\n",
    "    result = r.json()\n",
    "    return(result)"
   ]
  },
  {
   "cell_type": "code",
   "execution_count": null,
   "metadata": {
    "jupyter": {
     "outputs_hidden": false,
     "source_hidden": false
    },
    "nteract": {
     "transient": {
      "deleting": false
     }
    }
   },
   "outputs": [
    {
     "data": {
      "application/vnd.livy.statement-meta+json": {
       "execution_finish_time": "2022-01-29T13:50:31.599238Z",
       "execution_start_time": "2022-01-29T13:50:29.1700989Z",
       "livy_statement_state": "available",
       "queued_time": "2022-01-29T13:50:29.0668741Z",
       "session_id": 3,
       "session_start_time": null,
       "spark_pool": "sqldwspark",
       "state": "finished",
       "statement_id": 5
      },
      "text/plain": [
       "StatementMeta(sqldwspark, 3, 5, Finished, Available)"
      ]
     },
     "metadata": {},
     "output_type": "display_data"
    },
    {
     "name": "stdout",
     "output_type": "stream",
     "text": [
      "https://graph.microsoft.com/v1.0/groups?$filter=startswith(displayName, 'sqldwgroup')&$select=id,displayName\n",
      "https://graph.microsoft.com/v1.0/groups/3903997c-cda5-46b6-be9c-051e07f708f3/transitiveMembers/microsoft.graph.user?$select=userPrincipalName"
     ]
    }
   ],
   "source": [
    "\n",
    "url_group_id=\"\"\"https://graph.microsoft.com/v1.0/groups?$filter=startswith(displayName, '\"\"\" + groupname +  \"\"\"')&$select=id,displayName\"\"\"\n",
    "result=azure_ad_api(url_group_id)\n",
    "groupinfo=list(list(result.items())[1])[1]\n",
    "groupid=str(list(groupinfo[0].values())[0])\n",
    "url_member_info ='https://graph.microsoft.com/v1.0/groups/'+ groupid + '/transitiveMembers/microsoft.graph.user?$select=userPrincipalName'\n",
    "result=azure_ad_api(url_member_info)\n",
    "data=list(list(result.items())[1])[1]\n",
    "outdf = pd.DataFrame(data)"
   ]
  },
  {
   "cell_type": "code",
   "execution_count": null,
   "metadata": {
    "jupyter": {
     "outputs_hidden": false,
     "source_hidden": false
    },
    "nteract": {
     "transient": {
      "deleting": false
     }
    }
   },
   "outputs": [
    {
     "data": {
      "application/vnd.livy.statement-meta+json": {
       "execution_finish_time": "2022-01-29T14:00:13.3159409Z",
       "execution_start_time": "2022-01-29T14:00:11.9341996Z",
       "livy_statement_state": "available",
       "queued_time": "2022-01-29T14:00:11.8342578Z",
       "session_id": 3,
       "session_start_time": null,
       "spark_pool": "sqldwspark",
       "state": "finished",
       "statement_id": 14
      },
      "text/plain": [
       "StatementMeta(sqldwspark, 3, 14, Finished, Available)"
      ]
     },
     "metadata": {},
     "output_type": "display_data"
    }
   ],
   "source": [
    "df_sp = spark.createDataFrame(outdf)\n",
    "df_sp.write.format(\"parquet\").mode(\"append\")\\\n",
    ".option(\"compression\",\"snappy\")\\\n",
    ".save(adls_path +\"/\"+ \"ad_role\")"
   ]
  }
 ],
 "metadata": {
  "language_info": {
   "name": "python"
  },
  "orig_nbformat": 4
 },
 "nbformat": 4,
 "nbformat_minor": 2
}
